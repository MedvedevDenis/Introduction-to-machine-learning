{
 "cells": [
  {
   "cell_type": "code",
   "execution_count": 25,
   "id": "aa92b116-a210-41f6-b6db-53336b3cc6f6",
   "metadata": {},
   "outputs": [],
   "source": [
    "import pandas as pd\n",
    "from sklearn.model_selection import KFold, GridSearchCV\n",
    "from sklearn.ensemble import GradientBoostingClassifier"
   ]
  },
  {
   "cell_type": "code",
   "execution_count": 26,
   "id": "3dda7fc9-a925-433b-8a38-4d2d3b06114b",
   "metadata": {},
   "outputs": [],
   "source": [
    "train_df = pd.read_csv(\"features.zip\", index_col = \"match_id\")"
   ]
  },
  {
   "cell_type": "code",
   "execution_count": 27,
   "id": "60e6c62b-3e2a-4d57-919f-3e18c2cb0cd4",
   "metadata": {},
   "outputs": [
    {
     "name": "stdout",
     "output_type": "stream",
     "text": [
      "Следующие признаки имеют пропуски среди своих значений:\n",
      "* first_blood_time\n",
      "* first_blood_team\n",
      "* first_blood_player1\n",
      "* first_blood_player2\n",
      "* radiant_bottle_time\n",
      "* radiant_courier_time\n",
      "* radiant_flying_courier_time\n",
      "* radiant_first_ward_time\n",
      "* dire_bottle_time\n",
      "* dire_courier_time\n",
      "* dire_flying_courier_time\n",
      "* dire_first_ward_time\n"
     ]
    }
   ],
   "source": [
    "print(\"Следующие признаки имеют пропуски среди своих значений:\")\n",
    "for key in train_df.count()[(train_df.shape[0] - train_df.count())> 0].keys():\n",
    "    print(\"*\", key)"
   ]
  },
  {
   "cell_type": "code",
   "execution_count": 28,
   "id": "5d29261d-4a82-4340-8cef-e84182b493b3",
   "metadata": {},
   "outputs": [],
   "source": [
    "train_df = train_df.fillna(0)"
   ]
  },
  {
   "cell_type": "markdown",
   "id": "ceede285-da4c-4220-8370-70385f1722d1",
   "metadata": {},
   "source": [
    "## \n",
    "\n",
    "Столбец **radiant_win** является целевой переменной. \n",
    "\n",
    "* Значение 1 - победила команда Света\n",
    "* Значение 0 - победила команда Тьмы"
   ]
  },
  {
   "cell_type": "code",
   "execution_count": 29,
   "id": "d8ec8952-6693-4a8c-a59d-f92e40646e83",
   "metadata": {},
   "outputs": [
    {
     "data": {
      "text/plain": [
       "1    50414\n",
       "0    46816\n",
       "Name: radiant_win, dtype: int64"
      ]
     },
     "execution_count": 29,
     "metadata": {},
     "output_type": "execute_result"
    }
   ],
   "source": [
    "train_df[\"radiant_win\"].value_counts()"
   ]
  },
  {
   "cell_type": "code",
   "execution_count": 38,
   "id": "e6c9b866-3256-4ce3-8496-3f8b2d95c981",
   "metadata": {},
   "outputs": [],
   "source": [
    "X_train = train_df.drop(\"radiant_win\", axis=1)\n",
    "y_train = train_df[\"radiant_win\"]"
   ]
  },
  {
   "cell_type": "code",
   "execution_count": 39,
   "id": "f0514e0c-4df4-490d-b652-cb23883d7f55",
   "metadata": {},
   "outputs": [],
   "source": [
    "cv = KFold(n_splits = 5, shuffle = True, random_state = 42)"
   ]
  },
  {
   "cell_type": "code",
   "execution_count": 40,
   "id": "bff764ba-4107-49ef-a4ba-c43b8f2cc9b3",
   "metadata": {},
   "outputs": [],
   "source": [
    "clf = GradientBoostingClassifier(random_state=42)"
   ]
  },
  {
   "cell_type": "code",
   "execution_count": 41,
   "id": "a9100219-6208-4dda-b342-6483bf525855",
   "metadata": {},
   "outputs": [],
   "source": [
    "params = {\"n_estimators\": range(10,300,10)}"
   ]
  },
  {
   "cell_type": "code",
   "execution_count": 44,
   "id": "54a4273e-6d34-4ecb-9861-b5088b1cef5c",
   "metadata": {},
   "outputs": [],
   "source": [
    "grid_search = GridSearchCV(clf, params, scoring = \"roc_auc\", cv = cv, n_jobs = -1)    "
   ]
  },
  {
   "cell_type": "code",
   "execution_count": null,
   "id": "97a9f736-cb44-40a7-afe5-842bf59db0e3",
   "metadata": {},
   "outputs": [],
   "source": [
    "grid_search.fit(X_train, y_train)"
   ]
  },
  {
   "cell_type": "code",
   "execution_count": null,
   "id": "1d871570-9ba2-430b-adf7-bbd45df19732",
   "metadata": {},
   "outputs": [],
   "source": []
  }
 ],
 "metadata": {
  "kernelspec": {
   "display_name": "Python 3 (ipykernel)",
   "language": "python",
   "name": "python3"
  },
  "language_info": {
   "codemirror_mode": {
    "name": "ipython",
    "version": 3
   },
   "file_extension": ".py",
   "mimetype": "text/x-python",
   "name": "python",
   "nbconvert_exporter": "python",
   "pygments_lexer": "ipython3",
   "version": "3.9.2"
  }
 },
 "nbformat": 4,
 "nbformat_minor": 5
}
